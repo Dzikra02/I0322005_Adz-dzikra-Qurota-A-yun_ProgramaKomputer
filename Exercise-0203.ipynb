{
 "cells": [
  {
   "cell_type": "code",
   "execution_count": 1,
   "metadata": {},
   "outputs": [
    {
     "name": "stdout",
     "output_type": "stream",
     "text": [
      "Adz-dzikra QA.\n",
      "I0322005\n",
      "A\n"
     ]
    }
   ],
   "source": [
    "print(input(\"Nama: \"))\n",
    "print(input(\"NIM: \"))\n",
    "print(input(\"Kelas \"))"
   ]
  },
  {
   "attachments": {},
   "cell_type": "markdown",
   "metadata": {},
   "source": [
    "## 1."
   ]
  },
  {
   "attachments": {},
   "cell_type": "markdown",
   "metadata": {},
   "source": [
    "buatlah program sederhana untuk menghitung umur pengguna dengan ketentuan sebagai berikut :\n",
    "* Program meminta pengguna memasukan tanggal, bulan, dan tahun lahir\n",
    "* Program menghitung umur pengguna hingga tanggal 1 januari 2023\n",
    "* Program menampilkan umur dari pengguna"
   ]
  },
  {
   "cell_type": "code",
   "execution_count": 40,
   "metadata": {},
   "outputs": [
    {
     "name": "stdout",
     "output_type": "stream",
     "text": [
      "19\n"
     ]
    }
   ],
   "source": [
    "tanggal = int(input(\"masukan tanggal lahir\"))\n",
    "bulan = int(input(\"masukan bulan lahir\"))\n",
    "tahun = int(input(\"masukan tahun lahir\"))\n",
    "\n",
    "tahun1 = 2022-tahun\n",
    "\n",
    "if  tanggal==1:\n",
    "    if bulan == 1:\n",
    "        tahun1 += 1\n",
    "print(tahun1)"
   ]
  },
  {
   "attachments": {},
   "cell_type": "markdown",
   "metadata": {},
   "source": [
    "## 2."
   ]
  },
  {
   "attachments": {},
   "cell_type": "markdown",
   "metadata": {},
   "source": [
    "Pada 2015, wabah flu burung menyerang Indonesia dan beberapa peternak ayam mengalami kerugian karena banyaknya ayam yang mati. Setiap bulan, jumlah ayamnya berkurang menjadi setengah. Setelah dua bulan, jumlah ayam yang tersisa adalah 200 ekor. Hitunglah jumlah ayam sebelumnya yang dimiliki peternak tersebut! (gunakan rumus deret geometri)\n",
    "\n",
    "> *note: SOAL DIATAS DIKERJAKAN SESUAI DENGAN RUMUS BAKU*"
   ]
  },
  {
   "cell_type": "code",
   "execution_count": 3,
   "metadata": {},
   "outputs": [
    {
     "name": "stdout",
     "output_type": "stream",
     "text": [
      "Jumlah ayam sisa =  200\n",
      "Jumlah ayam, tahun 2015 =  800.0\n"
     ]
    }
   ],
   "source": [
    "sisaayam = 200\n",
    "\n",
    "#Rumus Dasar Geometri\n",
    "# Un= a*r**(n-1)\n",
    "# a= Un/(r**(n-1))\n",
    "\n",
    "a = 200/((1/2)**2)\n",
    "print(\"Jumlah ayam sisa = \", sisaayam)\n",
    "\n",
    "print(\"Jumlah ayam, tahun 2015 = \",a)"
   ]
  },
  {
   "attachments": {},
   "cell_type": "markdown",
   "metadata": {},
   "source": [
    "## 3. "
   ]
  },
  {
   "attachments": {},
   "cell_type": "markdown",
   "metadata": {},
   "source": [
    "* **A** Hitunglah luas Prisma Segitiga dengan ketentuan sebagai berikut:\n",
    "    * Alas dan tutup prisma merupakan segitiga\n",
    "    * Terdapat 3 persegi panjang yang menyinggung alas dan tutup prisma\n",
    "    * Sisi persegi panjang yang menyinggung segitiga adalah sisi lebar\n",
    "```python\n",
    "    dictionary_figure = {\"Persegi\":{\"Sisi\":22},\n",
    "                        \"Persegi Panjang\":{\"Panjang\":10,\"Lebar\":5},\n",
    "                        \"Segitiga Sama Sisi\":{\"Sisi\":6,\"Tinggi\":3**(1/2) * 3},\n",
    "                        \"Lingkaran\":{\"Diameter\":7}}\n",
    "```\n",
    "* **B** Hitunglah luas Tabung dengan ketentuan sebagai berikut:\n",
    "    * Alas dan tutup tabung merupakan lingkaran\n",
    "    * Terdapat 1 persegi yang menyinggung alas dan tutup tabung\n",
    "    * Persegi yang ada mengelilingi lingkaran hingga sisi dari persegi saling bertemu\n",
    "\n",
    "> *note: Pada soal ini kalian hanya boleh menggunakan key-value pair dan index pada list. Tidak diperbolehkan menulis secara langsung dimensi dari figure*"
   ]
  },
  {
   "cell_type": "code",
   "execution_count": 4,
   "metadata": {},
   "outputs": [
    {
     "name": "stdout",
     "output_type": "stream",
     "text": [
      "Luas permukaan prisma segitiga yaitu : 181.1769145362398\n",
      "Jadi luas permukaan tabung adalah 560.0504000000001\n"
     ]
    }
   ],
   "source": [
    "dictionary_figure = {\"Persegi\":{\"Sisi\":22},\n",
    "                     \"Persegi Panjang\":{\"Panjang\":10,\"Lebar\":5},\n",
    "                     \"Segitiga Sama Sisi\":{\"Sisi\":6,\"Tinggi\":3**(1/2)*3},\n",
    "                     \"Lingkaran\":{\"Diameter\":7}}\n",
    "\n",
    "# Luas Permukaan Prisma Segitiga\n",
    "panjang = dictionary_figure[\"Persegi Panjang\"][\"Panjang\"]\n",
    "lebar = dictionary_figure[\"Persegi Panjang\"][\"Lebar\"]\n",
    "sisi_segitiga = dictionary_figure[\"Segitiga Sama Sisi\"][\"Sisi\"]\n",
    "tinggi_segitiga = dictionary_figure[\"Segitiga Sama Sisi\"][\"Tinggi\"]\n",
    "luas_persegi_panjang = panjang*lebar\n",
    "luas_segitiga = 1/2*sisi_segitiga*tinggi_segitiga\n",
    "luas_prisma = 2*luas_segitiga + 3*luas_persegi_panjang\n",
    "print (\"Luas permukaan prisma segitiga yaitu :\", luas_prisma)\n",
    "\n",
    "# Luas Tabung\n",
    "d = dictionary_figure[\"Lingkaran\"][\"Diameter\"]\n",
    "keliling_lingkaran = 3.14 * d\n",
    "sisi = keliling_lingkaran\n",
    "luas_permukaan_tabung = 2*3.14*(((1/2)*d)**2) + sisi*sisi\n",
    "\n",
    "print (\"Jadi luas permukaan tabung adalah\",luas_permukaan_tabung)"
   ]
  }
 ],
 "metadata": {
  "kernelspec": {
   "display_name": "Python 3",
   "language": "python",
   "name": "python3"
  },
  "language_info": {
   "codemirror_mode": {
    "name": "ipython",
    "version": 3
   },
   "file_extension": ".py",
   "mimetype": "text/x-python",
   "name": "python",
   "nbconvert_exporter": "python",
   "pygments_lexer": "ipython3",
   "version": "3.11.2"
  },
  "orig_nbformat": 4,
  "vscode": {
   "interpreter": {
    "hash": "5addf786bcd861d1ce5006f23111f8cbb206731e5b61b0a5632ba9e0252558a8"
   }
  }
 },
 "nbformat": 4,
 "nbformat_minor": 2
}
