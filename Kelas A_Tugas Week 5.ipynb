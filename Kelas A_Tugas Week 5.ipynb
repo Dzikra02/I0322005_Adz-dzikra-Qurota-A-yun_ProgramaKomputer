{
 "cells": [
  {
   "attachments": {},
   "cell_type": "markdown",
   "metadata": {},
   "source": [
    "1. Buatlah program untuk menampilkan total penjumlahan bilangan ganjil dan total penjumlahan bilangan genap dengan input dari user berupa range (batas atas dan batas bawah)!"
   ]
  },
  {
   "cell_type": "code",
   "execution_count": 6,
   "metadata": {},
   "outputs": [
    {
     "name": "stdout",
     "output_type": "stream",
     "text": [
      "Penjumlahan bilangan ganjil = 25\n",
      "Penjumlahan bilangan genap = 20\n"
     ]
    }
   ],
   "source": [
    "batas_atas = int(input(\"masukan batas atas =\"))\n",
    "batas_bawah = int(input(\"masukan batas bawah =\"))\n",
    "\n",
    "penjumlahan_ganjil = 0\n",
    "penjumlahan_genap = 0\n",
    "\n",
    "for i in range (batas_atas,batas_bawah+1):\n",
    "    if i % 2 == 0:\n",
    "        penjumlahan_genap += i\n",
    "    else:\n",
    "        penjumlahan_ganjil += i\n",
    "\n",
    "print (\"Penjumlahan bilangan ganjil =\",penjumlahan_ganjil)\n",
    "print (\"Penjumlahan bilangan genap =\",penjumlahan_genap)"
   ]
  },
  {
   "attachments": {},
   "cell_type": "markdown",
   "metadata": {},
   "source": [
    "2. Buatlah sebuah list yang berisi daftar makanan khas daerah (minimal 10 makanan termasuk makanan khas Solo). Kemudian buat program pencarian menggunakan pengulangan. Apabila nama makanan yang user inputkan sudah sesuai dengan isi list maka program akan berhenti dan menampilkan output \"(makanan yang diinput user) adalah makanan khas daerah\"."
   ]
  },
  {
   "cell_type": "code",
   "execution_count": 18,
   "metadata": {},
   "outputs": [
    {
     "name": "stdout",
     "output_type": "stream",
     "text": [
      "List makananan khas daerah = Soto Betawi, Rendang, Selat Solo, Tengkleng, Pempek, Gudeg, Rawon, Gulai, Gethuk, Pecel\n",
      "Soto Betawi\n",
      "Rendang\n",
      "Selat Solo\n",
      "Tengkleng\n",
      "Pempek\n",
      "Gudeg\n",
      "Rawon\n",
      "Gulai\n",
      "Gethuk\n",
      "Pecel adalah makanan khas daerah\n"
     ]
    }
   ],
   "source": [
    "List_makananan_khas_daerah = ['Soto Betawi', 'Rendang', 'Selat Solo', 'Tengkleng', 'Pempek', 'Gudeg', 'Rawon', 'Gulai', 'Gethuk', 'Pecel']\n",
    "\n",
    "print('List makananan khas daerah = Soto Betawi, Rendang, Selat Solo, Tengkleng, Pempek, Gudeg, Rawon, Gulai, Gethuk, Pecel')          \n",
    "Makanan = input(\"masukkan nama makanan daerah yang kamu ketahui: \")\n",
    "\n",
    "for nama_makanan in List_makananan_khas_daerah :\n",
    "    if nama_makanan == Makanan :\n",
    "        break\n",
    "    print(nama_makanan)\n",
    "if nama_makanan == Makanan :\n",
    "    print(Makanan, \"adalah makanan khas daerah\")\n",
    "else :\n",
    "    print(Makanan, \"bukan makanan khas daerah\")\n",
    "\n"
   ]
  },
  {
   "attachments": {},
   "cell_type": "markdown",
   "metadata": {},
   "source": [
    "3. Buatlah program untuk menghitung rata-rata 7 bilangan dimana bilangan-bilangan tersebut didapat melalui input user!"
   ]
  },
  {
   "cell_type": "code",
   "execution_count": 10,
   "metadata": {},
   "outputs": [
    {
     "name": "stdout",
     "output_type": "stream",
     "text": [
      "maka rata-rata nya adalah 4.0\n"
     ]
    }
   ],
   "source": [
    "list_bilangan = []\n",
    "for bilangan in range (7):\n",
    "    bilangan = float(input(\"masukan angka= \"))\n",
    "    list_bilangan.append(bilangan)\n",
    "    rata2 = sum(list_bilangan)/len(list_bilangan)\n",
    "\n",
    "print (\"maka rata-rata nya adalah\",rata2)\n"
   ]
  }
 ],
 "metadata": {
  "kernelspec": {
   "display_name": "Python 3",
   "language": "python",
   "name": "python3"
  },
  "language_info": {
   "codemirror_mode": {
    "name": "ipython",
    "version": 3
   },
   "file_extension": ".py",
   "mimetype": "text/x-python",
   "name": "python",
   "nbconvert_exporter": "python",
   "pygments_lexer": "ipython3",
   "version": "3.11.2"
  },
  "orig_nbformat": 4
 },
 "nbformat": 4,
 "nbformat_minor": 2
}
