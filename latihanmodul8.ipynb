{
 "cells": [
  {
   "cell_type": "code",
   "execution_count": 11,
   "metadata": {},
   "outputs": [],
   "source": [
    "import os\n",
    "\n",
    "def main():\n",
    "    os.mkdir(\"Geometri\")\n",
    "\n",
    "ifname:\"main\"\n",
    "main()"
   ]
  },
  {
   "cell_type": "code",
   "execution_count": 13,
   "metadata": {},
   "outputs": [
    {
     "ename": "FileNotFoundError",
     "evalue": "[WinError 2] The system cannot find the file specified: 'Geometri' -> 'Lat_Geometri'",
     "output_type": "error",
     "traceback": [
      "\u001b[1;31m---------------------------------------------------------------------------\u001b[0m",
      "\u001b[1;31mFileNotFoundError\u001b[0m                         Traceback (most recent call last)",
      "Cell \u001b[1;32mIn[13], line 7\u001b[0m\n\u001b[0;32m      4\u001b[0m     os\u001b[39m.\u001b[39mrename(\u001b[39m\"\u001b[39m\u001b[39mGeometri\u001b[39m\u001b[39m\"\u001b[39m,\u001b[39m\"\u001b[39m\u001b[39mLat_Geometri\u001b[39m\u001b[39m\"\u001b[39m)\n\u001b[0;32m      6\u001b[0m ifname:\u001b[39m\"\u001b[39m\u001b[39mmain\u001b[39m\u001b[39m\"\u001b[39m\n\u001b[1;32m----> 7\u001b[0m main()\n",
      "Cell \u001b[1;32mIn[13], line 4\u001b[0m, in \u001b[0;36mmain\u001b[1;34m()\u001b[0m\n\u001b[0;32m      3\u001b[0m \u001b[39mdef\u001b[39;00m \u001b[39mmain\u001b[39m():\n\u001b[1;32m----> 4\u001b[0m     os\u001b[39m.\u001b[39;49mrename(\u001b[39m\"\u001b[39;49m\u001b[39mGeometri\u001b[39;49m\u001b[39m\"\u001b[39;49m,\u001b[39m\"\u001b[39;49m\u001b[39mLat_Geometri\u001b[39;49m\u001b[39m\"\u001b[39;49m)\n",
      "\u001b[1;31mFileNotFoundError\u001b[0m: [WinError 2] The system cannot find the file specified: 'Geometri' -> 'Lat_Geometri'"
     ]
    }
   ],
   "source": [
    "import os\n",
    "\n",
    "def main():\n",
    "    os.rename(\"Geometri\",\"Lat_Geometri\")\n",
    "\n",
    "ifname:\"main\"\n",
    "main()"
   ]
  },
  {
   "cell_type": "code",
   "execution_count": 2,
   "metadata": {},
   "outputs": [],
   "source": [
    "Latihan = open(\"Lat_Geometri\\\\Jawaban.py\",\"w\")\n",
    "\n",
    "Isi = \"\"\"import math\n",
    "\n",
    "# Fungsi Luas Persegi Panjang\n",
    "def LuasPersegiPanjang(p,l):\n",
    "    return p*l\n",
    "\n",
    "# Fungsi Keliling Persegi Panjang\n",
    "def KelilingPersegiPanjang(p,l):\n",
    "    return 2*(p+l)\n",
    "\n",
    "# Fungsi Luas Bujur Sangkar\n",
    "def LuasBujurSangkar(s):\n",
    "    return s*s\n",
    "\n",
    "# Fungsi Keliling Bujur Sangkar\n",
    "def KelilingBujurSangkar(s):\n",
    "    return 4*s\n",
    "\n",
    "# Fungsi Luas Lingkaran\n",
    "def LuasLingkaran(r):\n",
    "    return math.pi*r*r\n",
    "\n",
    "# Fungsi Keliling Lingkaran\n",
    "def KelilingLingkaran(r):\n",
    "    return 2*math.pi*r\n",
    "\n",
    "# Fungsi Luas Segitiga\n",
    "def LuasSegitiga(a,t):\n",
    "    return (a*t)/2\n",
    "\n",
    "# Fungsi Keliling Segitiga\n",
    "def KelilingSegitiga(a,b,c):\n",
    "    return a+b+c\n",
    "\"\"\"\n",
    "Latihan.write(Isi)\n",
    "Latihan.close()"
   ]
  }
 ],
 "metadata": {
  "kernelspec": {
   "display_name": "Python 3",
   "language": "python",
   "name": "python3"
  },
  "language_info": {
   "codemirror_mode": {
    "name": "ipython",
    "version": 3
   },
   "file_extension": ".py",
   "mimetype": "text/x-python",
   "name": "python",
   "nbconvert_exporter": "python",
   "pygments_lexer": "ipython3",
   "version": "3.11.2"
  },
  "orig_nbformat": 4
 },
 "nbformat": 4,
 "nbformat_minor": 2
}
