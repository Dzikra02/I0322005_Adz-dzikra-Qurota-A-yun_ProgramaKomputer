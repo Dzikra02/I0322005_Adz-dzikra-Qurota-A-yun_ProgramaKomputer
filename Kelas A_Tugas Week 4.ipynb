{
 "cells": [
  {
   "cell_type": "code",
   "execution_count": 4,
   "metadata": {},
   "outputs": [
    {
     "name": "stdout",
     "output_type": "stream",
     "text": [
      "Adz-dzikra\n",
      "I0322005\n",
      "A\n"
     ]
    }
   ],
   "source": [
    "print(input(\"Nama: \"))\n",
    "print(input(\"NIM: \"))\n",
    "print(input(\"Kelas: \"))"
   ]
  },
  {
   "attachments": {},
   "cell_type": "markdown",
   "metadata": {},
   "source": [
    "## 1."
   ]
  },
  {
   "attachments": {},
   "cell_type": "markdown",
   "metadata": {},
   "source": [
    "Buatlah program persyaratan pembuatan SIM dengan input yaitu nama user, umur user, dan nilai tes user.<br>\n",
    "Dengan ketentuan mendapat SIM sebagai berikut:\n",
    "* Umur dari user harus lebih dari sama dengan 17 tahun\n",
    "* Nilai tes lebih dari sama dengan 70\n",
    "\n",
    "<br>Output yang dihasilkan dari program adalah:\n",
    "<br>\"Selamat Anda Berhak Mendapatkan SIM Anda\"\n",
    "<br>\"Maaf, Anda tidak berhak mendapatkan SIM anda\"\n",
    "> *note: Kerjakan soal ini dengan percabangan*"
   ]
  },
  {
   "cell_type": "code",
   "execution_count": 1,
   "metadata": {},
   "outputs": [
    {
     "name": "stdout",
     "output_type": "stream",
     "text": [
      "Selamat Anda Berhak Mendapatkan SIM Anda\n"
     ]
    }
   ],
   "source": [
    "Nama = input(\"masukan nama user = \")\n",
    "Umur = int(input(\"masukan umur user = \"))\n",
    "Nilai_tes = int(input(\"masukan nilai tes user = \"))\n",
    "\n",
    "if Umur >= 17:\n",
    "    Nilai_tes >= 70\n",
    "    print(\"Selamat Anda Berhak Mendapatkan SIM Anda\")\n",
    "else:\n",
    "    print(\"Maaf, Anda Tidak Berhak Mendapatkan SIM Anda\")"
   ]
  },
  {
   "attachments": {},
   "cell_type": "markdown",
   "metadata": {},
   "source": [
    "## 2."
   ]
  },
  {
   "attachments": {},
   "cell_type": "markdown",
   "metadata": {},
   "source": [
    "Buatlah program untuk mencari bilangan terbesar yang diinput dari user.<br>\n",
    "<br>Dengan ketentuan sebagai berikut:\n",
    "* Program nenerima 3 input bilangan dari user\n",
    "* Program akan menentukan mana bilangan terbesar\n",
    "* Output yang akan dihasilkan misalnya adalah \"Dari bil_1, bil_2, dan bil_3, bilangan terbesarnya adalah bilangan bil_2\"\n",
    "> *note: Kerjakan soal ini dengan percabangan*"
   ]
  },
  {
   "cell_type": "code",
   "execution_count": 3,
   "metadata": {},
   "outputs": [
    {
     "name": "stdout",
     "output_type": "stream",
     "text": [
      "Dari bilangan 1,bilangan 2,bilangan 3,bilangan terbesarnya adalah bilangan 2\n"
     ]
    }
   ],
   "source": [
    "Bilangan1 = int(input(\"masukan bilangan pertama\"))\n",
    "Bilangan2 = int(input(\"masukan bilangan kedua\"))\n",
    "Bilangan3 = int(input(\"masukan bilangan ketiga\"))\n",
    "\n",
    "if Bilangan1>Bilangan2:\n",
    "    if Bilangan1>Bilangan3:\n",
    "        print(\"Dari bilangan 1,bilangan 2,bilangan 3,bilangan terbesarnya adalah bilangan 1\")\n",
    "elif Bilangan2>Bilangan1:\n",
    "    if Bilangan2>Bilangan3:\n",
    "        print(\"Dari bilangan 1,bilangan 2,bilangan 3,bilangan terbesarnya adalah bilangan 2\")\n",
    "else:\n",
    "    print(\"Dari bilangan 1,bilangan 2,bilangan 3,bilangan terbesarnya adalah bilangan 3\")"
   ]
  }
 ],
 "metadata": {
  "kernelspec": {
   "display_name": "Python 3",
   "language": "python",
   "name": "python3"
  },
  "language_info": {
   "codemirror_mode": {
    "name": "ipython",
    "version": 3
   },
   "file_extension": ".py",
   "mimetype": "text/x-python",
   "name": "python",
   "nbconvert_exporter": "python",
   "pygments_lexer": "ipython3",
   "version": "3.11.2"
  },
  "orig_nbformat": 4
 },
 "nbformat": 4,
 "nbformat_minor": 2
}
